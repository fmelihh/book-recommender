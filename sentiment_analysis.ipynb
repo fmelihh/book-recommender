{
 "cells": [
  {
   "cell_type": "code",
   "id": "initial_id",
   "metadata": {
    "collapsed": true,
    "ExecuteTime": {
     "end_time": "2025-02-16T16:11:45.903071Z",
     "start_time": "2025-02-16T16:11:45.535596Z"
    }
   },
   "source": "import pandas as pd",
   "outputs": [],
   "execution_count": 1
  },
  {
   "metadata": {
    "ExecuteTime": {
     "end_time": "2025-02-16T16:11:52.784997Z",
     "start_time": "2025-02-16T16:11:52.724609Z"
    }
   },
   "cell_type": "code",
   "source": "books = pd.read_csv(\"books_with_categories.csv\")",
   "id": "efe1231274e08ff1",
   "outputs": [],
   "execution_count": 2
  },
  {
   "metadata": {
    "ExecuteTime": {
     "end_time": "2025-02-16T16:15:53.906402Z",
     "start_time": "2025-02-16T16:15:52.795401Z"
    }
   },
   "cell_type": "code",
   "source": [
    "from transformers import pipeline\n",
    "pipe = pipeline(\"text-classification\", model=\"j-hartmann/emotion-english-distilroberta-base\", top_k=None, device=\"mps\")\n",
    "pipe(\"I love this book\")\n"
   ],
   "id": "7f127de370c7ce58",
   "outputs": [
    {
     "name": "stderr",
     "output_type": "stream",
     "text": [
      "Device set to use mps\n"
     ]
    },
    {
     "data": {
      "text/plain": [
       "[[{'label': 'joy', 'score': 0.9862679243087769},\n",
       "  {'label': 'surprise', 'score': 0.005481816362589598},\n",
       "  {'label': 'sadness', 'score': 0.003376907669007778},\n",
       "  {'label': 'neutral', 'score': 0.002553066937252879},\n",
       "  {'label': 'anger', 'score': 0.0012129780370742083},\n",
       "  {'label': 'disgust', 'score': 0.0006926579517312348},\n",
       "  {'label': 'fear', 'score': 0.0004146647988818586}]]"
      ]
     },
     "execution_count": 4,
     "metadata": {},
     "output_type": "execute_result"
    }
   ],
   "execution_count": 4
  },
  {
   "metadata": {
    "ExecuteTime": {
     "end_time": "2025-02-16T16:16:30.097088Z",
     "start_time": "2025-02-16T16:16:30.092700Z"
    }
   },
   "cell_type": "code",
   "source": "books[\"description\"][0]",
   "id": "25006880bcc6522a",
   "outputs": [
    {
     "data": {
      "text/plain": [
       "'A NOVEL THAT READERS and critics have been eagerly anticipating for over a decade, Gilead is an astonishingly imagined story of remarkable lives. John Ames is a preacher, the son of a preacher and the grandson (both maternal and paternal) of preachers. It’s 1956 in Gilead, Iowa, towards the end of the Reverend Ames’s life, and he is absorbed in recording his family’s story, a legacy for the young son he will never see grow up. Haunted by his grandfather’s presence, John tells of the rift between his grandfather and his father: the elder, an angry visionary who fought for the abolitionist cause, and his son, an ardent pacifist. He is troubled, too, by his prodigal namesake, Jack (John Ames) Boughton, his best friend’s lost son who returns to Gilead searching for forgiveness and redemption. Told in John Ames’s joyous, rambling voice that finds beauty, humour and truth in the smallest of life’s details, Gilead is a song of celebration and acceptance of the best and the worst the world has to offer. At its heart is a tale of the sacred bonds between fathers and sons, pitch-perfect in style and story, set to dazzle critics and readers alike.'"
      ]
     },
     "execution_count": 5,
     "metadata": {},
     "output_type": "execute_result"
    }
   ],
   "execution_count": 5
  },
  {
   "metadata": {
    "ExecuteTime": {
     "end_time": "2025-02-16T16:17:19.640673Z",
     "start_time": "2025-02-16T16:17:19.029303Z"
    }
   },
   "cell_type": "code",
   "source": "pipe(books[\"description\"][0])",
   "id": "631d0b961bd0f4c9",
   "outputs": [
    {
     "data": {
      "text/plain": [
       "[[{'label': 'fear', 'score': 0.6548413634300232},\n",
       "  {'label': 'neutral', 'score': 0.1698521375656128},\n",
       "  {'label': 'sadness', 'score': 0.11640870571136475},\n",
       "  {'label': 'surprise', 'score': 0.020700665190815926},\n",
       "  {'label': 'disgust', 'score': 0.01910073310136795},\n",
       "  {'label': 'joy', 'score': 0.015161280520260334},\n",
       "  {'label': 'anger', 'score': 0.0039351508021354675}]]"
      ]
     },
     "execution_count": 6,
     "metadata": {},
     "output_type": "execute_result"
    }
   ],
   "execution_count": 6
  },
  {
   "metadata": {
    "ExecuteTime": {
     "end_time": "2025-02-16T16:18:18.319121Z",
     "start_time": "2025-02-16T16:18:15.978911Z"
    }
   },
   "cell_type": "code",
   "source": "pipe(books[\"description\"][0].split(\".\"))",
   "id": "d662d43ed4e2a82",
   "outputs": [
    {
     "data": {
      "text/plain": [
       "[[{'label': 'surprise', 'score': 0.7296023964881897},\n",
       "  {'label': 'neutral', 'score': 0.14038589596748352},\n",
       "  {'label': 'fear', 'score': 0.06816217303276062},\n",
       "  {'label': 'joy', 'score': 0.04794251546263695},\n",
       "  {'label': 'anger', 'score': 0.009156357496976852},\n",
       "  {'label': 'disgust', 'score': 0.002628477755934},\n",
       "  {'label': 'sadness', 'score': 0.0021221647039055824}],\n",
       " [{'label': 'neutral', 'score': 0.4493715167045593},\n",
       "  {'label': 'disgust', 'score': 0.27359068393707275},\n",
       "  {'label': 'joy', 'score': 0.10908294469118118},\n",
       "  {'label': 'sadness', 'score': 0.09362741559743881},\n",
       "  {'label': 'anger', 'score': 0.040478210896253586},\n",
       "  {'label': 'surprise', 'score': 0.026970192790031433},\n",
       "  {'label': 'fear', 'score': 0.006879056338220835}],\n",
       " [{'label': 'neutral', 'score': 0.6462160348892212},\n",
       "  {'label': 'sadness', 'score': 0.2427334487438202},\n",
       "  {'label': 'disgust', 'score': 0.0434226393699646},\n",
       "  {'label': 'surprise', 'score': 0.02830049954354763},\n",
       "  {'label': 'joy', 'score': 0.014211451634764671},\n",
       "  {'label': 'fear', 'score': 0.014084098860621452},\n",
       "  {'label': 'anger', 'score': 0.01103187631815672}],\n",
       " [{'label': 'fear', 'score': 0.9281686544418335},\n",
       "  {'label': 'anger', 'score': 0.03219062462449074},\n",
       "  {'label': 'neutral', 'score': 0.012808652594685555},\n",
       "  {'label': 'sadness', 'score': 0.008756848983466625},\n",
       "  {'label': 'surprise', 'score': 0.008597859181463718},\n",
       "  {'label': 'disgust', 'score': 0.008431786671280861},\n",
       "  {'label': 'joy', 'score': 0.0010455807205289602}],\n",
       " [{'label': 'sadness', 'score': 0.9671575427055359},\n",
       "  {'label': 'neutral', 'score': 0.015104170888662338},\n",
       "  {'label': 'disgust', 'score': 0.006480605341494083},\n",
       "  {'label': 'fear', 'score': 0.005394003354012966},\n",
       "  {'label': 'surprise', 'score': 0.0022869419772177935},\n",
       "  {'label': 'anger', 'score': 0.001842890284024179},\n",
       "  {'label': 'joy', 'score': 0.0017338788602501154}],\n",
       " [{'label': 'joy', 'score': 0.9327977299690247},\n",
       "  {'label': 'disgust', 'score': 0.037717342376708984},\n",
       "  {'label': 'neutral', 'score': 0.015891864895820618},\n",
       "  {'label': 'sadness', 'score': 0.006444521714001894},\n",
       "  {'label': 'anger', 'score': 0.005024985410273075},\n",
       "  {'label': 'surprise', 'score': 0.0015812081983312964},\n",
       "  {'label': 'fear', 'score': 0.0005423083202913404}],\n",
       " [{'label': 'joy', 'score': 0.652869462966919},\n",
       "  {'label': 'neutral', 'score': 0.25427576899528503},\n",
       "  {'label': 'surprise', 'score': 0.06808321923017502},\n",
       "  {'label': 'sadness', 'score': 0.00990903191268444},\n",
       "  {'label': 'disgust', 'score': 0.006512209307402372},\n",
       "  {'label': 'anger', 'score': 0.004821317736059427},\n",
       "  {'label': 'fear', 'score': 0.0035290250089019537}],\n",
       " [{'label': 'neutral', 'score': 0.5494773387908936},\n",
       "  {'label': 'sadness', 'score': 0.11169011890888214},\n",
       "  {'label': 'disgust', 'score': 0.1040065586566925},\n",
       "  {'label': 'surprise', 'score': 0.0787653997540474},\n",
       "  {'label': 'anger', 'score': 0.06413353234529495},\n",
       "  {'label': 'fear', 'score': 0.051362719386816025},\n",
       "  {'label': 'joy', 'score': 0.04056433215737343}]]"
      ]
     },
     "execution_count": 7,
     "metadata": {},
     "output_type": "execute_result"
    }
   ],
   "execution_count": 7
  },
  {
   "metadata": {},
   "cell_type": "code",
   "outputs": [],
   "execution_count": null,
   "source": "",
   "id": "c78b20794e52e02a"
  },
  {
   "metadata": {
    "ExecuteTime": {
     "end_time": "2025-02-16T16:19:20.336187Z",
     "start_time": "2025-02-16T16:19:20.061591Z"
    }
   },
   "cell_type": "code",
   "source": [
    "senteces = books[\"description\"][0].split(\".\")\n",
    "predictions = pipe.predict(senteces)"
   ],
   "id": "8c936279651ff081",
   "outputs": [],
   "execution_count": 8
  },
  {
   "metadata": {
    "ExecuteTime": {
     "end_time": "2025-02-16T16:19:23.329141Z",
     "start_time": "2025-02-16T16:19:23.325285Z"
    }
   },
   "cell_type": "code",
   "source": "predictions[0]",
   "id": "be4c263a639be440",
   "outputs": [
    {
     "data": {
      "text/plain": [
       "[{'label': 'surprise', 'score': 0.7296023964881897},\n",
       " {'label': 'neutral', 'score': 0.14038589596748352},\n",
       " {'label': 'fear', 'score': 0.06816217303276062},\n",
       " {'label': 'joy', 'score': 0.04794251546263695},\n",
       " {'label': 'anger', 'score': 0.009156357496976852},\n",
       " {'label': 'disgust', 'score': 0.002628477755934},\n",
       " {'label': 'sadness', 'score': 0.0021221647039055824}]"
      ]
     },
     "execution_count": 9,
     "metadata": {},
     "output_type": "execute_result"
    }
   ],
   "execution_count": 9
  },
  {
   "metadata": {},
   "cell_type": "code",
   "outputs": [],
   "execution_count": null,
   "source": "",
   "id": "1efd56ea6df774fa"
  },
  {
   "metadata": {
    "ExecuteTime": {
     "end_time": "2025-02-16T16:22:56.496655Z",
     "start_time": "2025-02-16T16:22:56.489862Z"
    }
   },
   "cell_type": "code",
   "source": [
    "import numpy as np\n",
    "\n",
    "emotion_labels = [\"anger\", \"disgust\", \"fear\", \"joy\", \"sadness\", \"surprise\", \"neutral\"]\n",
    "isbn = []\n",
    "emotion_scores = {label: [] for label in emotion_labels}\n",
    "\n",
    "def calculate_max_emotion_scores(predictions):\n",
    "    per_emotion_scores = {label: [] for label in emotion_labels}\n",
    "    for prediction in predictions:\n",
    "        sorted_predictions = sorted(prediction, key=lambda x: x[\"label\"])\n",
    "        for index, label in enumerate(emotion_labels):\n",
    "            per_emotion_scores[label].append(sorted_predictions[index][\"score\"])\n",
    "    return {label: np.max(scores) for label, scores in per_emotion_scores.items()}"
   ],
   "id": "fcfab7de1e4ebc0a",
   "outputs": [],
   "execution_count": 11
  },
  {
   "metadata": {
    "ExecuteTime": {
     "end_time": "2025-02-16T16:23:37.643680Z",
     "start_time": "2025-02-16T16:23:33.783365Z"
    }
   },
   "cell_type": "code",
   "source": [
    "for i in range(10):\n",
    "    isbn.append(books[\"isbn13\"][i])\n",
    "    sentences = books[\"description\"][i].split(\".\")\n",
    "    predictions = pipe(sentences)\n",
    "    max_scores = calculate_max_emotion_scores(predictions)\n",
    "    for label in emotion_labels:\n",
    "        emotion_scores[label].append(max_scores[label])"
   ],
   "id": "5fb4bf9b82ac5d73",
   "outputs": [],
   "execution_count": 14
  },
  {
   "metadata": {
    "ExecuteTime": {
     "end_time": "2025-02-16T16:24:30.238321Z",
     "start_time": "2025-02-16T16:24:30.226737Z"
    }
   },
   "cell_type": "code",
   "source": "emotion_scores",
   "id": "3cb0d81c9a764396",
   "outputs": [
    {
     "data": {
      "text/plain": [
       "{'anger': [0.06413353234529495,\n",
       "  0.6126179099082947,\n",
       "  0.06413353234529495,\n",
       "  0.35148343443870544,\n",
       "  0.08141229301691055,\n",
       "  0.2322252243757248,\n",
       "  0.5381841659545898,\n",
       "  0.06413353234529495,\n",
       "  0.3006708025932312,\n",
       "  0.06413353234529495],\n",
       " 'disgust': [0.27359068393707275,\n",
       "  0.34828516840934753,\n",
       "  0.1040065586566925,\n",
       "  0.15072256326675415,\n",
       "  0.1844949573278427,\n",
       "  0.7271744608879089,\n",
       "  0.15585489571094513,\n",
       "  0.1040065586566925,\n",
       "  0.27948132157325745,\n",
       "  0.17792607843875885],\n",
       " 'fear': [0.9281686544418335,\n",
       "  0.9425276517868042,\n",
       "  0.9723208546638489,\n",
       "  0.36070677638053894,\n",
       "  0.09504333138465881,\n",
       "  0.051362719386816025,\n",
       "  0.747428297996521,\n",
       "  0.40449604392051697,\n",
       "  0.9155239462852478,\n",
       "  0.051362719386816025],\n",
       " 'joy': [0.9327977299690247,\n",
       "  0.7044217586517334,\n",
       "  0.7672373056411743,\n",
       "  0.2518809139728546,\n",
       "  0.04056433215737343,\n",
       "  0.04337581247091293,\n",
       "  0.8725650906562805,\n",
       "  0.04056433215737343,\n",
       "  0.04056433215737343,\n",
       "  0.04056433215737343],\n",
       " 'sadness': [0.6462160348892212,\n",
       "  0.8879395127296448,\n",
       "  0.5494773387908936,\n",
       "  0.732686460018158,\n",
       "  0.8843896389007568,\n",
       "  0.6213926672935486,\n",
       "  0.7121945023536682,\n",
       "  0.5494773387908936,\n",
       "  0.8402896523475647,\n",
       "  0.8603722453117371],\n",
       " 'surprise': [0.9671575427055359,\n",
       "  0.11169011890888214,\n",
       "  0.11169011890888214,\n",
       "  0.11169011890888214,\n",
       "  0.47588053345680237,\n",
       "  0.11169011890888214,\n",
       "  0.40799903869628906,\n",
       "  0.8202819228172302,\n",
       "  0.3544591963291168,\n",
       "  0.11169011890888214],\n",
       " 'neutral': [0.7296023964881897,\n",
       "  0.25254446268081665,\n",
       "  0.0787653997540474,\n",
       "  0.0787653997540474,\n",
       "  0.0787653997540474,\n",
       "  0.27190279960632324,\n",
       "  0.0787653997540474,\n",
       "  0.2344881147146225,\n",
       "  0.13561491668224335,\n",
       "  0.0787653997540474]}"
      ]
     },
     "execution_count": 15,
     "metadata": {},
     "output_type": "execute_result"
    }
   ],
   "execution_count": 15
  },
  {
   "metadata": {
    "ExecuteTime": {
     "end_time": "2025-02-16T16:29:44.389293Z",
     "start_time": "2025-02-16T16:25:47.926572Z"
    }
   },
   "cell_type": "code",
   "source": [
    "\n",
    "from tqdm import tqdm\n",
    "\n",
    "emotion_labels = [\"anger\", \"disgust\", \"fear\", \"joy\", \"sadness\", \"surprise\", \"neutral\"]\n",
    "isbn = []\n",
    "emotion_scores = {label: [] for label in emotion_labels}\n",
    "\n",
    "for i in tqdm(range(len(books))):\n",
    "    isbn.append(books[\"isbn13\"][i])\n",
    "    sentences = books[\"description\"][i].split(\".\")\n",
    "    predictions = pipe(sentences)\n",
    "    max_scores = calculate_max_emotion_scores(predictions)\n",
    "    for label in emotion_labels:\n",
    "        emotion_scores[label].append(max_scores[label])"
   ],
   "id": "4785278b7d5c12c0",
   "outputs": [
    {
     "name": "stderr",
     "output_type": "stream",
     "text": [
      "100%|██████████| 5230/5230 [03:56<00:00, 22.12it/s]\n"
     ]
    }
   ],
   "execution_count": 16
  },
  {
   "metadata": {
    "ExecuteTime": {
     "end_time": "2025-02-16T16:29:44.433023Z",
     "start_time": "2025-02-16T16:29:44.401277Z"
    }
   },
   "cell_type": "code",
   "source": [
    "emotions_df = pd.DataFrame(emotion_scores)\n",
    "emotions_df[\"isbn13\"] = isbn\n",
    "\n",
    "books = pd.merge(books, emotions_df, on = \"isbn13\")\n",
    "\n",
    "books = pd.merge(books, emotions_df, on = \"isbn13\")\n",
    "\n"
   ],
   "id": "b3b1c9a810cb1427",
   "outputs": [],
   "execution_count": 17
  },
  {
   "metadata": {
    "ExecuteTime": {
     "end_time": "2025-02-16T16:29:45.508606Z",
     "start_time": "2025-02-16T16:29:45.375536Z"
    }
   },
   "cell_type": "code",
   "source": "books.to_csv(\"books_with_emotions.csv\", index = False)",
   "id": "64b95ad6dac18f89",
   "outputs": [],
   "execution_count": 18
  },
  {
   "metadata": {},
   "cell_type": "code",
   "outputs": [],
   "execution_count": null,
   "source": "",
   "id": "e55f137295c6b8d1"
  }
 ],
 "metadata": {
  "kernelspec": {
   "display_name": "Python 3",
   "language": "python",
   "name": "python3"
  },
  "language_info": {
   "codemirror_mode": {
    "name": "ipython",
    "version": 2
   },
   "file_extension": ".py",
   "mimetype": "text/x-python",
   "name": "python",
   "nbconvert_exporter": "python",
   "pygments_lexer": "ipython2",
   "version": "2.7.6"
  }
 },
 "nbformat": 4,
 "nbformat_minor": 5
}
